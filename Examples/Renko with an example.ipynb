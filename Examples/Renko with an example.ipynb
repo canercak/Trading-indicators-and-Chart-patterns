{
 "cells": [
  {
   "cell_type": "markdown",
   "metadata": {},
   "source": [
    "#### Importing necessary libraries"
   ]
  },
  {
   "cell_type": "code",
   "execution_count": 1,
   "metadata": {
    "collapsed": true
   },
   "outputs": [],
   "source": [
    "import pandas as pd\n",
    "pd.options.mode.chained_assignment = None # This avoids SettingWithCopyWarnings\n",
    "import numpy as np\n",
    "\n"
   ]
  },
  {
   "cell_type": "code",
   "execution_count": 3,
   "metadata": {
    "scrolled": true
   },
   "outputs": [],
   "source": [
    "from pandas_datareader import data as pdr\n",
    "import fix_yahoo_finance as yf\n",
    "yf.pdr_override()"
   ]
  },
  {
   "cell_type": "markdown",
   "metadata": {},
   "source": [
    "### Initializing Variables\n"
   ]
  },
  {
   "cell_type": "code",
   "execution_count": 4,
   "metadata": {
    "collapsed": true
   },
   "outputs": [],
   "source": [
    "data={} # Dictionary to contain pandas dataframe for all the stocks. This is to avoid creating variable for each stock \n",
    "        # to store data\n",
    "finalData={} # This should contain our final output and that is Renko OHLC data\n",
    "n=14 # Period for ATR\n",
    "renkoData={} # It contains information on the lastest bar of renko data for the number of stocks we are working on"
   ]
  },
  {
   "cell_type": "markdown",
   "metadata": {},
   "source": [
    "### Average True Range is generally used as Renko bar size. However we can also use a custom bar size"
   ]
  },
  {
   "cell_type": "code",
   "execution_count": 5,
   "metadata": {
    "collapsed": true
   },
   "outputs": [],
   "source": [
    "def ATR(df,n): #df is the DataFrame, n is the period 7,14 ,etc\n",
    "    df['H-L']=abs(df['High']-df['Low'])\n",
    "    df['H-PC']=abs(df['High']-df['Close'].shift(1))\n",
    "    df['L-PC']=abs(df['Low']-df['Close'].shift(1))\n",
    "    df['TR']=df[['H-L','H-PC','L-PC']].max(axis=1)\n",
    "    df['ATR']=np.nan\n",
    "    df.ix[n-1,'ATR']=df['TR'][:n-1].mean() #.ix is deprecated from pandas version- 0.19\n",
    "    for i in range(n,len(df)):\n",
    "        df['ATR'][i]=(df['ATR'][i-1]*(n-1)+ df['TR'][i])/n\n",
    "    return "
   ]
  },
  {
   "cell_type": "markdown",
   "metadata": {},
   "source": [
    "### Set of Stocks"
   ]
  },
  {
   "cell_type": "code",
   "execution_count": 6,
   "metadata": {
    "collapsed": true
   },
   "outputs": [],
   "source": [
    "StockList=['INFY', 'ICICIBANK'] "
   ]
  },
  {
   "cell_type": "markdown",
   "metadata": {},
   "source": [
    "### Fetching data using Yahoo API,  Setting up Pandas Dataframe in the dictionary 'data' with key as Stock name and Value as DataFrame\n"
   ]
  },
  {
   "cell_type": "code",
   "execution_count": 7,
   "metadata": {},
   "outputs": [
    {
     "name": "stdout",
     "output_type": "stream",
     "text": [
      "[*********************100%***********************]  1 of 1 downloaded"
     ]
    }
   ],
   "source": [
    "start='2016-1-1'\n",
    "for stock in StockList:\n",
    "    data[stock]=pdr.get_data_yahoo(stock+'.NS', start)"
   ]
  },
  {
   "cell_type": "markdown",
   "metadata": {},
   "source": [
    "#### Sometimes due to rate limiting factor, Yahoo api when called yeilds no data. Below cell helps us out in figuring whether we need to ping the api again. "
   ]
  },
  {
   "cell_type": "code",
   "execution_count": 8,
   "metadata": {
    "collapsed": true
   },
   "outputs": [],
   "source": [
    "for stock in data:\n",
    "    if data[stock].empty:\n",
    "        print stock"
   ]
  },
  {
   "cell_type": "code",
   "execution_count": 9,
   "metadata": {
    "scrolled": true
   },
   "outputs": [
    {
     "name": "stdout",
     "output_type": "stream",
     "text": [
      "ICICIBANK                   Open        High         Low       Close   Adj Close  \\\n",
      "Date                                                                     \n",
      "2016-01-01  237.544998  239.636002  234.544998  239.091003  229.999863   \n",
      "2016-01-04  237.272995  237.591003  231.500000  232.317993  223.484390   \n",
      "2016-01-05  232.955002  234.091003  228.817993  233.363998  224.490616   \n",
      "2016-01-06  232.182007  233.408997  226.544998  227.363998  218.718781   \n",
      "2016-01-07  224.000000  225.182007  221.000000  224.317993  215.788589   \n",
      "\n",
      "              Volume  \n",
      "Date                  \n",
      "2016-01-01   5998097  \n",
      "2016-01-04   9435792  \n",
      "2016-01-05   8966978  \n",
      "2016-01-06  17416181  \n",
      "2016-01-07  18240713  \n",
      "INFY                    Open         High          Low        Close    Adj Close  \\\n",
      "Date                                                                          \n",
      "2016-01-01  1100.000000  1108.949951  1093.199951  1105.250000  1049.958252   \n",
      "2016-01-04  1099.949951  1102.449951  1076.050049  1078.900024  1024.926392   \n",
      "2016-01-05  1085.500000  1085.500000  1062.250000  1074.050049  1020.319031   \n",
      "2016-01-06  1074.650024  1074.650024  1058.900024  1069.349976  1015.854126   \n",
      "2016-01-07  1060.050049  1067.900024  1047.900024  1050.800049   998.232239   \n",
      "\n",
      "             Volume  \n",
      "Date                 \n",
      "2016-01-01   903275  \n",
      "2016-01-04  1987681  \n",
      "2016-01-05  2474893  \n",
      "2016-01-06  2794164  \n",
      "2016-01-07  2647044  \n"
     ]
    }
   ],
   "source": [
    "for stock in data:\n",
    "    print stock, data[stock].head()"
   ]
  },
  {
   "cell_type": "markdown",
   "metadata": {},
   "source": [
    "###  Data Cleaning, Column renaming, etc"
   ]
  },
  {
   "cell_type": "code",
   "execution_count": 10,
   "metadata": {
    "collapsed": true
   },
   "outputs": [],
   "source": [
    "for stock in data:\n",
    "    data[stock].drop(data[stock][data[stock].Volume == 0].index, inplace=True) # Data Cleaning\n",
    "    ATR(data[stock],n)\n",
    "    data[stock]=data[stock][['Open','High','Low','Close','ATR']] # Removing unwanted columns"
   ]
  },
  {
   "cell_type": "code",
   "execution_count": 11,
   "metadata": {},
   "outputs": [
    {
     "data": {
      "text/html": [
       "<div>\n",
       "<table border=\"1\" class=\"dataframe\">\n",
       "  <thead>\n",
       "    <tr style=\"text-align: right;\">\n",
       "      <th></th>\n",
       "      <th>Open</th>\n",
       "      <th>High</th>\n",
       "      <th>Low</th>\n",
       "      <th>Close</th>\n",
       "      <th>ATR</th>\n",
       "    </tr>\n",
       "    <tr>\n",
       "      <th>Date</th>\n",
       "      <th></th>\n",
       "      <th></th>\n",
       "      <th></th>\n",
       "      <th></th>\n",
       "      <th></th>\n",
       "    </tr>\n",
       "  </thead>\n",
       "  <tbody>\n",
       "    <tr>\n",
       "      <th>2016-01-01</th>\n",
       "      <td>1100.000000</td>\n",
       "      <td>1108.949951</td>\n",
       "      <td>1093.199951</td>\n",
       "      <td>1105.250000</td>\n",
       "      <td>NaN</td>\n",
       "    </tr>\n",
       "    <tr>\n",
       "      <th>2016-01-04</th>\n",
       "      <td>1099.949951</td>\n",
       "      <td>1102.449951</td>\n",
       "      <td>1076.050049</td>\n",
       "      <td>1078.900024</td>\n",
       "      <td>NaN</td>\n",
       "    </tr>\n",
       "    <tr>\n",
       "      <th>2016-01-05</th>\n",
       "      <td>1085.500000</td>\n",
       "      <td>1085.500000</td>\n",
       "      <td>1062.250000</td>\n",
       "      <td>1074.050049</td>\n",
       "      <td>NaN</td>\n",
       "    </tr>\n",
       "    <tr>\n",
       "      <th>2016-01-06</th>\n",
       "      <td>1074.650024</td>\n",
       "      <td>1074.650024</td>\n",
       "      <td>1058.900024</td>\n",
       "      <td>1069.349976</td>\n",
       "      <td>NaN</td>\n",
       "    </tr>\n",
       "    <tr>\n",
       "      <th>2016-01-07</th>\n",
       "      <td>1060.050049</td>\n",
       "      <td>1067.900024</td>\n",
       "      <td>1047.900024</td>\n",
       "      <td>1050.800049</td>\n",
       "      <td>NaN</td>\n",
       "    </tr>\n",
       "  </tbody>\n",
       "</table>\n",
       "</div>"
      ],
      "text/plain": [
       "                   Open         High          Low        Close  ATR\n",
       "Date                                                               \n",
       "2016-01-01  1100.000000  1108.949951  1093.199951  1105.250000  NaN\n",
       "2016-01-04  1099.949951  1102.449951  1076.050049  1078.900024  NaN\n",
       "2016-01-05  1085.500000  1085.500000  1062.250000  1074.050049  NaN\n",
       "2016-01-06  1074.650024  1074.650024  1058.900024  1069.349976  NaN\n",
       "2016-01-07  1060.050049  1067.900024  1047.900024  1050.800049  NaN"
      ]
     },
     "execution_count": 11,
     "metadata": {},
     "output_type": "execute_result"
    }
   ],
   "source": [
    "data['INFY'].head() #Since ATR period is 7, we will see atr column filling out from 7th row"
   ]
  },
  {
   "cell_type": "code",
   "execution_count": 12,
   "metadata": {},
   "outputs": [
    {
     "data": {
      "text/html": [
       "<div>\n",
       "<table border=\"1\" class=\"dataframe\">\n",
       "  <thead>\n",
       "    <tr style=\"text-align: right;\">\n",
       "      <th></th>\n",
       "      <th>Open</th>\n",
       "      <th>High</th>\n",
       "      <th>Low</th>\n",
       "      <th>Close</th>\n",
       "      <th>ATR</th>\n",
       "    </tr>\n",
       "    <tr>\n",
       "      <th>Date</th>\n",
       "      <th></th>\n",
       "      <th></th>\n",
       "      <th></th>\n",
       "      <th></th>\n",
       "      <th></th>\n",
       "    </tr>\n",
       "  </thead>\n",
       "  <tbody>\n",
       "    <tr>\n",
       "      <th>2016-01-01</th>\n",
       "      <td>237.544998</td>\n",
       "      <td>239.636002</td>\n",
       "      <td>234.544998</td>\n",
       "      <td>239.091003</td>\n",
       "      <td>NaN</td>\n",
       "    </tr>\n",
       "    <tr>\n",
       "      <th>2016-01-04</th>\n",
       "      <td>237.272995</td>\n",
       "      <td>237.591003</td>\n",
       "      <td>231.500000</td>\n",
       "      <td>232.317993</td>\n",
       "      <td>NaN</td>\n",
       "    </tr>\n",
       "    <tr>\n",
       "      <th>2016-01-05</th>\n",
       "      <td>232.955002</td>\n",
       "      <td>234.091003</td>\n",
       "      <td>228.817993</td>\n",
       "      <td>233.363998</td>\n",
       "      <td>NaN</td>\n",
       "    </tr>\n",
       "    <tr>\n",
       "      <th>2016-01-06</th>\n",
       "      <td>232.182007</td>\n",
       "      <td>233.408997</td>\n",
       "      <td>226.544998</td>\n",
       "      <td>227.363998</td>\n",
       "      <td>NaN</td>\n",
       "    </tr>\n",
       "    <tr>\n",
       "      <th>2016-01-07</th>\n",
       "      <td>224.000000</td>\n",
       "      <td>225.182007</td>\n",
       "      <td>221.000000</td>\n",
       "      <td>224.317993</td>\n",
       "      <td>NaN</td>\n",
       "    </tr>\n",
       "    <tr>\n",
       "      <th>2016-01-08</th>\n",
       "      <td>222.272995</td>\n",
       "      <td>225.272995</td>\n",
       "      <td>221.317993</td>\n",
       "      <td>222.772995</td>\n",
       "      <td>NaN</td>\n",
       "    </tr>\n",
       "    <tr>\n",
       "      <th>2016-01-11</th>\n",
       "      <td>219.908997</td>\n",
       "      <td>221.727005</td>\n",
       "      <td>216.408997</td>\n",
       "      <td>217.682007</td>\n",
       "      <td>5.856336</td>\n",
       "    </tr>\n",
       "    <tr>\n",
       "      <th>2016-01-12</th>\n",
       "      <td>219.091003</td>\n",
       "      <td>219.863998</td>\n",
       "      <td>214.182007</td>\n",
       "      <td>215.227005</td>\n",
       "      <td>5.831430</td>\n",
       "    </tr>\n",
       "    <tr>\n",
       "      <th>2016-01-13</th>\n",
       "      <td>216.182007</td>\n",
       "      <td>220.817993</td>\n",
       "      <td>210.091003</td>\n",
       "      <td>217.727005</td>\n",
       "      <td>6.530795</td>\n",
       "    </tr>\n",
       "    <tr>\n",
       "      <th>2016-01-14</th>\n",
       "      <td>212.908997</td>\n",
       "      <td>218.000000</td>\n",
       "      <td>210.727005</td>\n",
       "      <td>214.317993</td>\n",
       "      <td>6.636824</td>\n",
       "    </tr>\n",
       "  </tbody>\n",
       "</table>\n",
       "</div>"
      ],
      "text/plain": [
       "                  Open        High         Low       Close       ATR\n",
       "Date                                                                \n",
       "2016-01-01  237.544998  239.636002  234.544998  239.091003       NaN\n",
       "2016-01-04  237.272995  237.591003  231.500000  232.317993       NaN\n",
       "2016-01-05  232.955002  234.091003  228.817993  233.363998       NaN\n",
       "2016-01-06  232.182007  233.408997  226.544998  227.363998       NaN\n",
       "2016-01-07  224.000000  225.182007  221.000000  224.317993       NaN\n",
       "2016-01-08  222.272995  225.272995  221.317993  222.772995       NaN\n",
       "2016-01-11  219.908997  221.727005  216.408997  217.682007  5.856336\n",
       "2016-01-12  219.091003  219.863998  214.182007  215.227005  5.831430\n",
       "2016-01-13  216.182007  220.817993  210.091003  217.727005  6.530795\n",
       "2016-01-14  212.908997  218.000000  210.727005  214.317993  6.636824"
      ]
     },
     "execution_count": 12,
     "metadata": {},
     "output_type": "execute_result"
    }
   ],
   "source": [
    "data['ICICIBANK'].head(10)"
   ]
  },
  {
   "cell_type": "markdown",
   "metadata": {},
   "source": [
    "### Initializing Renkodata Dictionary which will contain Renko BrickSize, Open, Close and its Color"
   ]
  },
  {
   "cell_type": "code",
   "execution_count": 13,
   "metadata": {
    "collapsed": true
   },
   "outputs": [],
   "source": [
    "for stock in data:\n",
    "    renkoData[stock]={'BrickSize':0.0, 'Open':0.0,'Close':0.0,'Color':''}"
   ]
  },
  {
   "cell_type": "markdown",
   "metadata": {},
   "source": [
    "### Setting up Bricksize from the last row of ATR column or it can be set manually as well with custom size "
   ]
  },
  {
   "cell_type": "code",
   "execution_count": 14,
   "metadata": {
    "collapsed": true,
    "scrolled": false
   },
   "outputs": [],
   "source": [
    "for stock in data:\n",
    "    renkoData[stock]['BrickSize']=round(data[stock]['ATR'][-1],2) #This can be set manually as well!\n",
    "    renkoData[stock]['Open']=renkoData[stock]['BrickSize']+renkoData[stock]['Close'] # This can be done the otherway round\n",
    "                                                                                    # as well.'Close' = 'BrickSize' - 'Open' \n",
    "    renkoData[stock]['Color']='red'    # Should you choose to do the other way round, please change the color to 'green'"
   ]
  },
  {
   "cell_type": "code",
   "execution_count": 15,
   "metadata": {},
   "outputs": [
    {
     "data": {
      "text/plain": [
       "{'BrickSize': 7.73, 'Close': 0.0, 'Color': 'red', 'Open': 7.73}"
      ]
     },
     "execution_count": 15,
     "metadata": {},
     "output_type": "execute_result"
    }
   ],
   "source": [
    "renkoData['ICICIBANK']"
   ]
  },
  {
   "cell_type": "code",
   "execution_count": 16,
   "metadata": {},
   "outputs": [
    {
     "data": {
      "text/plain": [
       "{'BrickSize': 22.5, 'Close': 0.0, 'Color': 'red', 'Open': 22.5}"
      ]
     },
     "execution_count": 16,
     "metadata": {},
     "output_type": "execute_result"
    }
   ],
   "source": [
    "renkoData['INFY']"
   ]
  },
  {
   "cell_type": "markdown",
   "metadata": {},
   "source": [
    " ### Setting us the finalData dictionary which will contain  Renko OHLC data along with the bar color!"
   ]
  },
  {
   "cell_type": "code",
   "execution_count": 17,
   "metadata": {
    "collapsed": true
   },
   "outputs": [],
   "source": [
    "for stock in data:\n",
    "    finalData[stock]=pd.DataFrame()\n",
    "    finalData[stock].index.name='Date'\n",
    "    finalData[stock]['ReOpen']=0.0\n",
    "    finalData[stock]['ReHigh']=0.0\n",
    "    finalData[stock]['ReLow']=0.0\n",
    "    finalData[stock]['ReClose']=0.0\n",
    "    finalData[stock]['Color']=''"
   ]
  },
  {
   "cell_type": "markdown",
   "metadata": {},
   "source": [
    "\n",
    "### The calculation involves searching for Renko bars as and when prices close above or below the previous renko bars and recording it "
   ]
  },
  {
   "cell_type": "code",
   "execution_count": 18,
   "metadata": {},
   "outputs": [],
   "source": [
    "for stock in data: # This loops thorugh all the stocks in the data dictionary\n",
    "    for index,row in data[stock].iterrows(): # One may choose to use Pure python instead of Iterrows to loop though each n \n",
    "                                         # every row to improve performace if datasets are large.\n",
    "        if renkoData[stock]['Open']> renkoData[stock]['Close']: \n",
    "            while row['Close']> renkoData[stock]['Open']+renkoData[stock]['BrickSize']:\n",
    "                renkoData[stock]['Open']+=renkoData[stock]['BrickSize']\n",
    "                renkoData[stock]['Close']+=renkoData[stock]['BrickSize']\n",
    "                finalData[stock].loc[index]=row\n",
    "                finalData[stock]['ReOpen'].loc[index]= renkoData[stock]['Close']         \n",
    "                finalData[stock]['ReHigh'].loc[index]=renkoData[stock]['Open']\n",
    "                finalData[stock]['ReLow'].loc[index]=renkoData[stock]['Close']\n",
    "                finalData[stock]['ReClose'].loc[index]=renkoData[stock]['Open']\n",
    "                finalData[stock]['Color'].loc[index]='green'\n",
    "\n",
    "            while row['Close'] < renkoData[stock]['Close']-renkoData[stock]['BrickSize']:\n",
    "                renkoData[stock]['Open']-=renkoData[stock]['BrickSize']\n",
    "                renkoData[stock]['Close']-=renkoData[stock]['BrickSize']\n",
    "                finalData[stock].loc[index]=row\n",
    "                finalData[stock]['ReOpen'].loc[index]= renkoData[stock]['Open']         \n",
    "                finalData[stock]['ReHigh'].loc[index]=renkoData[stock]['Open']\n",
    "                finalData[stock]['ReLow'].loc[index]=renkoData[stock]['Close']\n",
    "                finalData[stock]['ReClose'].loc[index]=renkoData[stock]['Close']\n",
    "                finalData[stock]['Color'].loc[index]='red'\n",
    "                \n",
    "        else:\n",
    "            while row['Close']< renkoData[stock]['Open']-renkoData[stock]['BrickSize']:\n",
    "                renkoData[stock]['Open']-=renkoData[stock]['BrickSize']\n",
    "                renkoData[stock]['Close']-=renkoData[stock]['BrickSize']\n",
    "                finalData[stock].loc[index]=row\n",
    "                finalData[stock]['ReOpen'].loc[index]= renkoData[stock]['Close']         \n",
    "                finalData[stock]['ReHigh'].loc[index]=renkoData[stock]['Close']\n",
    "                finalData[stock]['ReLow'].loc[index]=renkoData[stock]['Open']\n",
    "                finalData[stock]['ReClose'].loc[index]=renkoData[stock]['Open']\n",
    "                finalData[stock]['Color'].loc[index]='red'\n",
    "                \n",
    "            while row['Close'] > renkoData[stock]['Close']+renkoData[stock]['BrickSize']:\n",
    "                renkoData[stock]['Open']+=renkoData[stock]['BrickSize']\n",
    "                renkoData[stock]['Close']+=renkoData[stock]['BrickSize']\n",
    "                finalData[stock].loc[index]=row\n",
    "                finalData[stock]['ReOpen'].loc[index]= renkoData[stock]['Open']         \n",
    "                finalData[stock]['ReHigh'].loc[index]=renkoData[stock]['Close']\n",
    "                finalData[stock]['ReLow'].loc[index]=renkoData[stock]['Open']\n",
    "                finalData[stock]['ReClose'].loc[index]=renkoData[stock]['Close']\n",
    "                finalData[stock]['Color'].loc[index]='green'\n",
    "\n"
   ]
  },
  {
   "cell_type": "code",
   "execution_count": 19,
   "metadata": {
    "scrolled": false
   },
   "outputs": [
    {
     "data": {
      "text/html": [
       "<div>\n",
       "<table border=\"1\" class=\"dataframe\">\n",
       "  <thead>\n",
       "    <tr style=\"text-align: right;\">\n",
       "      <th></th>\n",
       "      <th>ReOpen</th>\n",
       "      <th>ReHigh</th>\n",
       "      <th>ReLow</th>\n",
       "      <th>ReClose</th>\n",
       "      <th>Color</th>\n",
       "    </tr>\n",
       "  </thead>\n",
       "  <tbody>\n",
       "    <tr>\n",
       "      <th>2018-03-01</th>\n",
       "      <td>316.93</td>\n",
       "      <td>316.93</td>\n",
       "      <td>309.20</td>\n",
       "      <td>309.20</td>\n",
       "      <td>red</td>\n",
       "    </tr>\n",
       "    <tr>\n",
       "      <th>2018-03-06</th>\n",
       "      <td>309.20</td>\n",
       "      <td>309.20</td>\n",
       "      <td>301.47</td>\n",
       "      <td>301.47</td>\n",
       "      <td>red</td>\n",
       "    </tr>\n",
       "    <tr>\n",
       "      <th>2018-03-07</th>\n",
       "      <td>301.47</td>\n",
       "      <td>301.47</td>\n",
       "      <td>293.74</td>\n",
       "      <td>293.74</td>\n",
       "      <td>red</td>\n",
       "    </tr>\n",
       "    <tr>\n",
       "      <th>2018-03-22</th>\n",
       "      <td>293.74</td>\n",
       "      <td>293.74</td>\n",
       "      <td>286.01</td>\n",
       "      <td>286.01</td>\n",
       "      <td>red</td>\n",
       "    </tr>\n",
       "    <tr>\n",
       "      <th>2018-03-23</th>\n",
       "      <td>286.01</td>\n",
       "      <td>286.01</td>\n",
       "      <td>278.28</td>\n",
       "      <td>278.28</td>\n",
       "      <td>red</td>\n",
       "    </tr>\n",
       "  </tbody>\n",
       "</table>\n",
       "</div>"
      ],
      "text/plain": [
       "            ReOpen  ReHigh   ReLow  ReClose Color\n",
       "2018-03-01  316.93  316.93  309.20   309.20   red\n",
       "2018-03-06  309.20  309.20  301.47   301.47   red\n",
       "2018-03-07  301.47  301.47  293.74   293.74   red\n",
       "2018-03-22  293.74  293.74  286.01   286.01   red\n",
       "2018-03-23  286.01  286.01  278.28   278.28   red"
      ]
     },
     "execution_count": 19,
     "metadata": {},
     "output_type": "execute_result"
    }
   ],
   "source": [
    "finalData['ICICIBANK'].tail()"
   ]
  },
  {
   "cell_type": "code",
   "execution_count": 20,
   "metadata": {},
   "outputs": [
    {
     "data": {
      "text/html": [
       "<div>\n",
       "<table border=\"1\" class=\"dataframe\">\n",
       "  <thead>\n",
       "    <tr style=\"text-align: right;\">\n",
       "      <th></th>\n",
       "      <th>ReOpen</th>\n",
       "      <th>ReHigh</th>\n",
       "      <th>ReLow</th>\n",
       "      <th>ReClose</th>\n",
       "      <th>Color</th>\n",
       "    </tr>\n",
       "  </thead>\n",
       "  <tbody>\n",
       "    <tr>\n",
       "      <th>2018-01-23</th>\n",
       "      <td>1147.5</td>\n",
       "      <td>1170.0</td>\n",
       "      <td>1147.5</td>\n",
       "      <td>1170.0</td>\n",
       "      <td>green</td>\n",
       "    </tr>\n",
       "    <tr>\n",
       "      <th>2018-02-06</th>\n",
       "      <td>1147.5</td>\n",
       "      <td>1147.5</td>\n",
       "      <td>1125.0</td>\n",
       "      <td>1125.0</td>\n",
       "      <td>red</td>\n",
       "    </tr>\n",
       "    <tr>\n",
       "      <th>2018-02-14</th>\n",
       "      <td>1125.0</td>\n",
       "      <td>1125.0</td>\n",
       "      <td>1102.5</td>\n",
       "      <td>1102.5</td>\n",
       "      <td>red</td>\n",
       "    </tr>\n",
       "    <tr>\n",
       "      <th>2018-02-22</th>\n",
       "      <td>1125.0</td>\n",
       "      <td>1147.5</td>\n",
       "      <td>1125.0</td>\n",
       "      <td>1147.5</td>\n",
       "      <td>green</td>\n",
       "    </tr>\n",
       "    <tr>\n",
       "      <th>2018-02-28</th>\n",
       "      <td>1147.5</td>\n",
       "      <td>1170.0</td>\n",
       "      <td>1147.5</td>\n",
       "      <td>1170.0</td>\n",
       "      <td>green</td>\n",
       "    </tr>\n",
       "  </tbody>\n",
       "</table>\n",
       "</div>"
      ],
      "text/plain": [
       "            ReOpen  ReHigh   ReLow  ReClose  Color\n",
       "2018-01-23  1147.5  1170.0  1147.5   1170.0  green\n",
       "2018-02-06  1147.5  1147.5  1125.0   1125.0    red\n",
       "2018-02-14  1125.0  1125.0  1102.5   1102.5    red\n",
       "2018-02-22  1125.0  1147.5  1125.0   1147.5  green\n",
       "2018-02-28  1147.5  1170.0  1147.5   1170.0  green"
      ]
     },
     "execution_count": 20,
     "metadata": {},
     "output_type": "execute_result"
    }
   ],
   "source": [
    "finalData['INFY'].tail()"
   ]
  },
  {
   "cell_type": "markdown",
   "metadata": {
    "collapsed": true
   },
   "source": [
    "#### Taking data to excel sheet"
   ]
  },
  {
   "cell_type": "code",
   "execution_count": 21,
   "metadata": {
    "collapsed": true,
    "scrolled": false
   },
   "outputs": [],
   "source": [
    "writer = pd.ExcelWriter('Data.xlsx')\n",
    "for stock in data:\n",
    "    data[stock].to_excel(writer,stock)\n",
    "writer.save()\n",
    "\n",
    "writer = pd.ExcelWriter('RenkoData.xlsx')\n",
    "for stock in finalData:\n",
    "    finalData[stock].to_excel(writer,stock)\n",
    "writer.save()\n"
   ]
  }
 ],
 "metadata": {
  "kernelspec": {
   "display_name": "Python 2",
   "language": "python",
   "name": "python2"
  },
  "language_info": {
   "codemirror_mode": {
    "name": "ipython",
    "version": 2
   },
   "file_extension": ".py",
   "mimetype": "text/x-python",
   "name": "python",
   "nbconvert_exporter": "python",
   "pygments_lexer": "ipython2",
   "version": "2.7.13"
  }
 },
 "nbformat": 4,
 "nbformat_minor": 2
}
